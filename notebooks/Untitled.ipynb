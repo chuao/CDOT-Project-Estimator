{
 "cells": [
  {
   "cell_type": "code",
   "execution_count": 2,
   "metadata": {},
   "outputs": [],
   "source": [
    "import pandas as pd\n",
    "pd.options.display.float_format='{:.4g}'.format\n",
    "\n",
    "import numpy as np\n",
    "RANDOM_SEED = 1234567890\n",
    "\n",
    "import sklearn as sk\n",
    "from sklearn import datasets\n",
    "from sklearn.model_selection import train_test_split\n",
    "from sklearn.model_selection import KFold\n",
    "from sklearn.linear_model import ElasticNet \n",
    "from sklearn.linear_model import LinearRegression \n",
    "from sklearn.metrics import mean_squared_error\n",
    "\n",
    "\n",
    "from matplotlib import pyplot as plt\n",
    "%matplotlib inline"
   ]
  },
  {
   "cell_type": "code",
   "execution_count": null,
   "metadata": {},
   "outputs": [],
   "source": []
  },
  {
   "cell_type": "code",
   "execution_count": null,
   "metadata": {},
   "outputs": [],
   "source": []
  },
  {
   "cell_type": "code",
   "execution_count": 62,
   "metadata": {},
   "outputs": [
    {
     "data": {
      "text/plain": [
       "((2000, 2), (2000,))"
      ]
     },
     "execution_count": 62,
     "metadata": {},
     "output_type": "execute_result"
    }
   ],
   "source": [
    "X_global_train = np.random.rand(2000,2)*500\n",
    "y_global_train = X_global_train.dot(np.array([35, 80])) + 200\n",
    "X_global_train.shape, y_global_train.shape\n"
   ]
  },
  {
   "cell_type": "code",
   "execution_count": 63,
   "metadata": {},
   "outputs": [],
   "source": [
    "X_train, X_valid, y_train, y_valid = sk.model_selection.train_test_split(X_global_train, \n",
    "                                                                        y_global_train, \n",
    "                                                                        train_size=0.80, \n",
    "                                                                        test_size=0.20,\n",
    "                                                                        shuffle=True,\n",
    "                                                                        random_state=None)"
   ]
  },
  {
   "cell_type": "code",
   "execution_count": 82,
   "metadata": {},
   "outputs": [
    {
     "data": {
      "text/plain": [
       "ElasticNet(alpha=10, copy_X=True, fit_intercept=True, l1_ratio=0.9,\n",
       "      max_iter=10000, normalize=False, positive=False, precompute=False,\n",
       "      random_state=None, selection='cyclic', tol=1e-08, warm_start=False)"
      ]
     },
     "execution_count": 82,
     "metadata": {},
     "output_type": "execute_result"
    }
   ],
   "source": [
    "mod = ElasticNet(alpha=10, normalize=False, l1_ratio=0.9, max_iter=10000,\n",
    "                 fit_intercept=True, tol=1e-8, random_state=None)\n",
    "mod.fit(X_train, y_train)"
   ]
  },
  {
   "cell_type": "code",
   "execution_count": 83,
   "metadata": {},
   "outputs": [],
   "source": [
    "y_pred = mod.predict(X_valid)\n",
    "y_pred_train = mod.predict(X_train)"
   ]
  },
  {
   "cell_type": "code",
   "execution_count": 85,
   "metadata": {},
   "outputs": [
    {
     "data": {
      "text/plain": [
       "(array([34.99797804, 79.99568207]),\n",
       " 201.57246383748497,\n",
       " <bound method RegressorMixin.score of ElasticNet(alpha=10, copy_X=True, fit_intercept=True, l1_ratio=0.9,\n",
       "       max_iter=10000, normalize=False, positive=False, precompute=False,\n",
       "       random_state=None, selection='cyclic', tol=1e-08, warm_start=False)>,\n",
       " 5)"
      ]
     },
     "execution_count": 85,
     "metadata": {},
     "output_type": "execute_result"
    }
   ],
   "source": [
    "mod.coef_,  mod.intercept_, mod.score, mod.n_iter_"
   ]
  },
  {
   "cell_type": "code",
   "execution_count": 74,
   "metadata": {},
   "outputs": [
    {
     "data": {
      "text/plain": [
       "(array([38388.48829532, 29783.3720101 , 36173.24312493, 50030.40904574,\n",
       "        36228.20259179, 49086.78092352, 27335.5917143 , 39025.79954529,\n",
       "        34092.80895912, 49650.29537304, 21218.27744784, 28784.40214811,\n",
       "        19093.85651638, 38357.05871189, 45180.03302931, 45969.67858813,\n",
       "        29744.29068471, 17529.66226039, 43293.83856459, 49685.2933674 ,\n",
       "        24535.85612095, 52176.86846586, 41590.05130235, 46325.88385909,\n",
       "        26407.93847286, 30343.31526194, 35221.20273171, 32066.55463124,\n",
       "        52045.19366743, 46935.4580249 , 18485.14417711, 30403.04760384,\n",
       "        26578.57379899, 48412.93999193, 10678.39068004, 35573.22856376,\n",
       "        21407.48943951, 19156.92689987, 27715.65995733, 42046.74425959,\n",
       "        51804.61892538, 31095.58667228, 27561.97557871, 38708.33952806,\n",
       "        33785.40445601, 21893.00664344, 28960.97161412, 26119.16473855,\n",
       "        47647.6971739 , 28109.53653469, 12221.77126542, 18999.44708332,\n",
       "        16013.97611806, 19452.22229815, 35451.94496544, 33697.47261054,\n",
       "        37818.12765153, 24211.27810593,  5881.99026665, 25869.23780821,\n",
       "         9852.44269015, 20185.15192666, 26976.32378239, 30231.88337369,\n",
       "        40905.43209161, 15680.23155178, 13118.47038601, 19370.80328295,\n",
       "        23451.59010074, 10927.30800267, 40802.59718456, 15761.7071974 ,\n",
       "        35158.4277124 , 14576.79996924,  9079.80829025, 38339.08511401,\n",
       "        19048.49943307, 32438.89399084, 19168.22990044, 29262.06479926,\n",
       "        32024.86449412, 45138.04341822, 42849.82039301,  8455.19479255,\n",
       "        41887.69023044, 28922.16858522, 20876.14791414, 28513.47957642,\n",
       "        13126.29061632,  9430.70131247, 31862.52455659, 23367.07050856,\n",
       "        26026.96410675, 43674.16745996,  7296.75136542, 43048.45985925,\n",
       "        16349.26650868, 13930.79340847, 27913.01751727, 12297.60287467,\n",
       "        18282.7352214 , 35195.99730693,  7653.46048223, 30781.11173608,\n",
       "        23902.90515563,  6346.51681497, 45286.26470983, 14491.14515586,\n",
       "        14193.05609466, 45896.57274171, 15077.61984842, 17980.62706839,\n",
       "        23659.67769093, 28730.07927688, 21214.24254448, 50130.69317051,\n",
       "        37060.96487462, 51521.38700229, 32715.70487953, 39694.20264437,\n",
       "        52283.74967169, 27102.38769648, 33684.40517494, 24101.53235784,\n",
       "        46633.9696148 , 42858.57012611, 28033.75272741, 32014.60481856,\n",
       "        20625.81605101, 30961.41003893, 12287.22132817,  1697.38805492,\n",
       "         9553.08083253, 27082.33139463, 30458.39688146, 34761.84433748,\n",
       "        28398.63280076, 36206.44336212, 21012.6488377 , 41909.30213796,\n",
       "        44214.4593102 , 15681.89818793, 49918.03123247, 33835.22398952,\n",
       "        14809.78506263, 54436.83369912, 23256.22205739, 10191.41965398,\n",
       "        12495.60105017, 44816.23518936, 26564.56718868,  8513.49881137,\n",
       "        25572.42210086, 44076.88935388, 37483.99446121, 37713.7097515 ,\n",
       "        33620.23988898, 16792.60422001, 49357.93899689, 24790.53530946,\n",
       "        10049.671592  , 14151.01225338, 22027.5290007 , 32902.41137622,\n",
       "        33927.97600274, 25917.92886224, 24113.49218217, 24496.96228881,\n",
       "        17962.59041654, 18520.86076278, 31986.84245893, 33974.86904696,\n",
       "        25873.13008264, 16974.31493841, 28370.00319031, 31689.74851729,\n",
       "        15870.65752914, 29718.94977488, 27619.80428   , 46719.76549403,\n",
       "        29753.24531155, 31602.95473968, 16593.79982792, 25689.0481965 ,\n",
       "        29581.34527804, 31920.75877792, 37994.38252458, 36239.28825152,\n",
       "        43531.15389486,  6069.24652161, 33047.81033723, 33234.36863377,\n",
       "        37117.38285306, 16052.30877504, 50373.69340643, 17224.86417836,\n",
       "        26694.31366378, 37997.19117018, 39342.29602097, 38908.61208598,\n",
       "         7397.15760793, 54836.38062528, 17975.73573883, 45592.66612358,\n",
       "        41897.68147729, 13237.20446892, 11286.74154192, 21884.02941522,\n",
       "        13632.39263425, 37301.1972476 , 15218.02492783, 27847.66989079,\n",
       "         9654.61168128, 46669.51655308, 46363.46793128, 24030.05558659,\n",
       "        14915.04761815, 46910.75318868, 20900.49050385, 27083.34600061,\n",
       "        42897.22207266, 30267.48899491, 52382.69013706, 20634.80376969,\n",
       "        30337.97982707, 13987.41121765, 24296.05384372, 21124.23097726,\n",
       "        41374.42821407, 42944.53365548, 18820.05290594,  7559.12711314,\n",
       "        11030.61503177, 48804.36611367, 17255.6456465 , 29160.43465714,\n",
       "        19326.92478385, 25457.0321143 , 27574.71588922, 23166.55135517,\n",
       "        35889.67410304, 17471.99547657, 36363.8222803 , 41770.04357832,\n",
       "        16485.12222884, 37567.01296776, 12059.5595295 , 27963.91009778,\n",
       "        35762.14337192, 48346.67900428, 22452.7178848 , 10899.65041923,\n",
       "        48336.16035503, 22901.97277865, 38000.99993308, 34262.84565021,\n",
       "        47962.14041184, 23902.6878348 , 34778.40452707, 37547.28469295,\n",
       "        17303.22507026, 46652.24375062,  6544.04714887, 41430.65225769,\n",
       "        27388.66725573, 46669.18574815, 14797.59307834, 46753.63694223,\n",
       "        48578.89678907, 28195.75006244, 12814.38961041, 32774.1809314 ,\n",
       "        56056.25852859, 25291.35028221, 31827.25849051, 24797.53726678,\n",
       "        35231.0350575 , 40253.31713569, 22531.84571728, 17749.47577701,\n",
       "         8095.61051891, 34001.5499388 , 37051.35036598, 43780.61253345,\n",
       "        18262.3647513 , 22113.97968247, 22682.73727758, 37689.30636657,\n",
       "        24016.97614802, 36462.09009468,  8357.15314401, 51347.46996096,\n",
       "        35527.41480639,  7931.50686079, 37051.63517349, 15744.817533  ,\n",
       "         4526.94174518,  2582.97042247, 16527.34630208, 12104.3676162 ,\n",
       "        47976.22323058, 29086.97404246, 30472.79005374, 19400.67980314,\n",
       "         9526.53262048, 31372.79010182, 34707.94426804, 17013.70750885,\n",
       "        12421.49273731, 38657.79087739, 19823.36901848, 18441.26038807,\n",
       "        34289.2967264 , 18809.64960723, 27236.95578644, 48184.47324479,\n",
       "         7917.28946482, 51116.67234505, 38393.4531867 , 34035.29734919,\n",
       "        23391.5213321 , 36028.01343298,  4513.81308993, 53937.30164822,\n",
       "        12367.74208585, 21861.99548793, 12285.42630362, 16810.18704123,\n",
       "        22358.41728315, 39674.34673937, 34131.58804814, 33887.16825492,\n",
       "        36225.2228137 , 47347.48671442, 32648.2677168 , 23707.08083409,\n",
       "        33370.18254429, 39200.08428419,  7005.26407595, 53026.6596251 ,\n",
       "        25029.93241924, 41128.38595297, 38133.55794791, 42127.69533894,\n",
       "        42162.46870533, 47368.47622022,  9770.14743154, 18994.32309741,\n",
       "        33678.22826443, 46703.58685313, 10088.63318476, 35830.43895269,\n",
       "        13517.88131813, 28807.41515819, 18221.86620909, 38460.49806466,\n",
       "        25503.01551959, 51918.91382133, 24494.87407499, 46792.9167889 ,\n",
       "        14844.43162279,  2359.13980856, 13449.15423722, 40941.88385886,\n",
       "        34958.31679936, 45319.13604182, 21237.34539388,  3350.7241404 ,\n",
       "        53702.91599324, 41568.17948848, 19279.90596618, 14259.92727625,\n",
       "        36253.97243728, 27131.59309469, 27478.34632897,  1250.14466418,\n",
       "        43196.08716959, 12301.01943295, 14641.69915718, 21843.34535964,\n",
       "        55558.56835765, 48349.54776964, 16779.73732412, 37054.40868791,\n",
       "        43575.93024672, 22979.19392163, 25981.70020647, 50780.85013252,\n",
       "        17509.67438611, 41353.16864528, 36821.55431964, 13066.863729  ,\n",
       "         9795.18446268, 32571.91723222, 29302.08636263, 15231.42612603,\n",
       "        28667.77280938, 44540.9995162 , 32022.8135063 , 17187.02419481]),\n",
       " array([38390.87124934, 29783.6457192 , 36175.15944238, 50035.60172446,\n",
       "        36230.11072762, 49091.70645185, 27335.21820296, 39028.38197267,\n",
       "        34094.1104201 , 49655.36039265, 21216.3336151 , 28784.32565769,\n",
       "        19091.38786801, 38359.3864527 , 45183.98954487, 45973.87439892,\n",
       "        29744.59145583, 17526.9507048 , 43297.46874088, 49690.42589608,\n",
       "        24534.86167095, 52182.58409258, 41593.22710497, 46330.14812961,\n",
       "        26407.37311243, 30343.63918552, 35222.81951902, 32067.28066195,\n",
       "        52050.85083111, 46939.85887597, 18482.62002918, 30403.41996424,\n",
       "        26577.94627413, 48417.69104627, 10673.94567755, 35574.95926619,\n",
       "        21405.66799947, 19154.62658048, 27715.38604253, 42049.9235706 ,\n",
       "        51810.23127098, 31096.11811498, 27561.65345965, 38710.85977969,\n",
       "        33786.65578695, 21891.28558296, 28961.08849631, 26118.45309087,\n",
       "        47652.35011474, 28109.34939805, 12217.67808054, 18996.99296435,\n",
       "        16010.81408042, 19450.01751043, 35453.55344129, 33698.61115558,\n",
       "        37820.29138236, 24210.09748908,  5876.4221768 , 25868.47296553,\n",
       "         9847.78852647, 20182.95039115, 26975.94918932, 30232.24558935,\n",
       "        40908.33935954, 15677.08171873, 13114.69060129, 19368.45530439,\n",
       "        23450.25507942, 10922.92221003, 40805.56009927, 15758.51021447,\n",
       "        35160.0093035 , 14573.38217021,  9075.03244789, 38341.47952411,\n",
       "        19046.08975337, 32439.89184585, 19165.88543188, 29262.23021678,\n",
       "        32025.74222383, 45141.99473974, 42853.27662309,  8450.25156568,\n",
       "        41890.82807785, 28922.27728872, 20874.11914246, 28513.33429483,\n",
       "        13122.48477582,  9426.04087461, 31863.27996426, 23365.73331916,\n",
       "        26026.31102955, 43677.77044815,  7291.5101362 , 43051.91582797,\n",
       "        16346.19453805, 13927.20355802, 27912.75992115, 12293.61960406,\n",
       "        18280.1909923 , 35197.54114974,  7648.30833183, 30781.59201907,\n",
       "        23901.71486652,  6341.08849731, 45290.37099856, 14487.67886184,\n",
       "        14189.56211317, 45900.76763351, 15074.24313035, 17978.04280828,\n",
       "        23658.5120548 , 28730.16074128, 21212.29979968, 50135.92731378,\n",
       "        37062.9903601 , 51526.94289879, 32716.62386773, 39696.80152132,\n",
       "        52289.46601535, 27101.99317685, 33685.69459084, 24100.48611253,\n",
       "        46638.2936896 , 42861.98760958, 28033.4914503 , 32015.46325754,\n",
       "        20623.78599533, 30961.85853181, 12283.22396015,  1690.82506054,\n",
       "         9548.43715732, 27082.00577388, 30458.80000492, 34763.35836649,\n",
       "        28398.56323529, 36208.25921261, 21010.7237354 , 41912.49738741,\n",
       "        44218.20689373, 15678.66898727, 49923.17134235, 33836.49114285,\n",
       "        14806.3759692 , 54443.09361998, 23254.9332946 , 10186.84899369,\n",
       "        12491.65385376, 44820.22642374, 26563.95728914,  8508.60368187,\n",
       "        25571.68487292, 44080.57910697, 37486.15013185, 37715.8342208 ,\n",
       "        33621.52692176, 16789.75538714, 49362.91942651, 24789.5183829 ,\n",
       "        10045.16693018, 14147.48149946, 22025.94440615, 32903.46693465,\n",
       "        33929.29878814, 25917.32290299, 24112.33898601, 24495.96529309,\n",
       "        17960.02903391, 18518.34367479, 31987.65886731, 33976.0733751 ,\n",
       "        25872.40454263, 16971.34352278, 28369.89590846, 31690.54201086,\n",
       "        15867.42756861, 29719.13140851, 27619.51507027, 46724.10163409,\n",
       "        29753.51153884, 31603.7041471 , 16590.85265417, 25688.32835152,\n",
       "        29581.62996234, 31921.5191308 , 37996.70713559, 36241.11880291,\n",
       "        43534.84437667,  6063.73690488, 33048.83906607, 33235.38322922,\n",
       "        37119.40705387, 16049.23987455, 50378.95252158, 17222.04376151,\n",
       "        26693.73441979, 37999.56802872, 39344.90374787, 38911.0966498 ,\n",
       "         7391.98764438, 54842.71676849, 17973.12058745, 45596.72043442,\n",
       "        41900.92600711, 13233.46661956, 11282.49368135, 21882.342439  ,\n",
       "        13628.70389585, 37303.30510214, 15214.66862924, 27847.42624805,\n",
       "         9649.93853642, 46673.85194517, 46367.74978908, 24028.88917683,\n",
       "        14911.61416983, 46915.19377027, 20898.66049425, 27083.01431842,\n",
       "        42900.63848963, 30267.83037587, 52388.41598125, 20632.73777717,\n",
       "        30338.3146263 , 13983.77738771, 24294.94759981, 21122.27754475,\n",
       "        41377.47937266, 42948.00386425, 18817.55964909,  7554.01017024,\n",
       "        11026.27494723, 48809.26100213, 17252.73739146, 29160.56953833,\n",
       "        19324.53498345, 25456.15895232, 27574.38477729, 23165.17010991,\n",
       "        35891.46921937, 17469.25734984, 36365.6512224 , 41773.24995679,\n",
       "        16482.04362338, 37569.21190893, 12055.53343669, 27963.71244288,\n",
       "        35763.81105992, 48351.48607997, 22451.12550813, 10895.2611186 ,\n",
       "        48340.9242126 , 22900.51268989, 38003.18829944, 34264.14144494,\n",
       "        47966.81171746, 23901.52665803, 34779.85910166, 37549.39791351,\n",
       "        17300.36405247, 46656.64524073,  6538.66605056, 41433.77402854,\n",
       "        27388.32310892, 46673.59891045, 14794.22914228, 46758.08220129,\n",
       "        48583.7656866 , 28195.6951227 , 12810.47070802, 32775.26246795,\n",
       "        56062.89024569, 25290.57681462, 31827.98731678, 24796.48018205,\n",
       "        35232.61282087, 40256.207977  , 22530.3514207 , 17746.81952999,\n",
       "         8090.56384343, 34002.91464772, 37053.32020156, 43784.24363573,\n",
       "        18259.70707916, 22112.38590189, 22681.16728551, 37691.56160518,\n",
       "        24015.91216744, 36464.0076409 ,  8352.21751711, 51352.97121651,\n",
       "        35529.08544869,  7926.40280902, 37053.68661483, 15741.65576499,\n",
       "         4521.06730105,  2576.61890079, 16524.27088921, 12100.26984357,\n",
       "        47980.91038841, 29087.07439996, 30473.27047626, 19398.30380373,\n",
       "         9521.80992614, 31373.37337699, 34709.45091796, 17010.73763239,\n",
       "        12417.53303177, 38660.24359003, 19821.09201625, 18438.7032208 ,\n",
       "        34290.67811313, 18807.16212204, 27236.56400593, 48189.19556958,\n",
       "         7912.23341232, 51122.08895486, 38395.8431011 , 34036.66482458,\n",
       "        23390.22594178, 36029.81992126,  4507.94341606, 53943.41980269,\n",
       "        12363.80582423, 21860.33958544, 12281.44950198, 16807.29733783,\n",
       "        22356.76021903, 39677.05658771, 34132.85990182, 33888.41017185,\n",
       "        36227.11790377, 47352.02472629, 32649.26804658, 23705.88828518,\n",
       "        33371.22991569, 39202.62549483,  6999.98509107, 53032.53991644,\n",
       "        25028.96946745, 41131.4472276 , 38135.90510458, 42131.00807413,\n",
       "        42165.76949174, 47373.00097522,  9765.56462326, 18991.8521328 ,\n",
       "        33679.53689052, 46708.00622083, 10084.04644156, 35832.15733656,\n",
       "        13514.12341047, 28807.34117143, 18219.19149814, 38462.80809694,\n",
       "        25502.22002891, 51924.54859138, 24493.78845055, 46797.27966901,\n",
       "        14841.02616454,  2352.74810376, 13445.44901966, 40944.97633822,\n",
       "        34959.7787035 , 45323.14334612, 21235.42869434,  3344.5603813 ,\n",
       "        53708.98214666, 41571.35288906, 19277.48542781, 14256.45885121,\n",
       "        36255.88312061, 27131.1722411 , 27477.99269647,  1243.47178592,\n",
       "        43199.58207927, 12296.95956487, 14638.23045522, 21841.70375571,\n",
       "        55565.07741184, 48354.29742349, 16776.77099214, 37056.39801803,\n",
       "        43579.51557562, 22977.80916613, 25981.10223778, 50786.25216471,\n",
       "        17506.95444873, 41356.20049698, 36823.45516464, 13063.06826427,\n",
       "         9790.56002553, 32572.83289759, 29302.27917788, 15228.15484869,\n",
       "        28667.83672888, 44544.79107404, 32023.70089752, 17184.1762303 ]))"
      ]
     },
     "execution_count": 74,
     "metadata": {},
     "output_type": "execute_result"
    }
   ],
   "source": [
    "y_pred, y_valid"
   ]
  },
  {
   "cell_type": "code",
   "execution_count": 68,
   "metadata": {},
   "outputs": [
    {
     "data": {
      "text/plain": [
       "(array([29488.17845093, 17741.47692991,  5715.24288262, ...,\n",
       "         3009.78569736, 18326.64328249, 32334.27748561]),\n",
       " array([29488.19000006, 17741.20783339,  5714.68431727, ...,\n",
       "         3009.15968678, 18326.39001259, 32334.36324684]))"
      ]
     },
     "execution_count": 68,
     "metadata": {},
     "output_type": "execute_result"
    }
   ],
   "source": [
    "y_pred_train, y_train"
   ]
  },
  {
   "cell_type": "code",
   "execution_count": 69,
   "metadata": {},
   "outputs": [
    {
     "data": {
      "text/plain": [
       "array([[355.65448925, 314.2601236 ],\n",
       "       [157.55417665, 376.27374356],\n",
       "       [212.6461737 , 495.93907407],\n",
       "       ...,\n",
       "       [446.58370816, 373.65890541],\n",
       "       [291.9981689 , 221.81370266],\n",
       "       [262.33858655, 180.910166  ]])"
      ]
     },
     "execution_count": 69,
     "metadata": {},
     "output_type": "execute_result"
    }
   ],
   "source": [
    "X_global_train"
   ]
  },
  {
   "cell_type": "code",
   "execution_count": 70,
   "metadata": {},
   "outputs": [
    {
     "data": {
      "image/png": "[encoded data removed]",
      "text/plain": [
       "<matplotlib.figure.Figure at 0x7f4f0a7978d0>"
      ]
     },
     "metadata": {},
     "output_type": "display_data"
    }
   ],
   "source": [
    "plt.clf()\n",
    "plt.scatter(y_pred_train,y_train);"
   ]
  },
  {
   "cell_type": "code",
   "execution_count": null,
   "metadata": {},
   "outputs": [],
   "source": []
  },
  {
   "cell_type": "code",
   "execution_count": null,
   "metadata": {},
   "outputs": [],
   "source": []
  }
 ],
 "metadata": {
  "kernelspec": {
   "display_name": "Python 3",
   "language": "python",
   "name": "python3"
  },
  "language_info": {
   "codemirror_mode": {
    "name": "ipython",
    "version": 3
   },
   "file_extension": ".py",
   "mimetype": "text/x-python",
   "name": "python",
   "nbconvert_exporter": "python",
   "pygments_lexer": "ipython3",
   "version": "3.6.4"
  }
 },
 "nbformat": 4,
 "nbformat_minor": 2
}
