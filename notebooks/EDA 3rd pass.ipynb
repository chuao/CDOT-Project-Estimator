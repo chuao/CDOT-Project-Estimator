{
 "cells": [
  {
   "cell_type": "code",
   "execution_count": 1,
   "metadata": {},
   "outputs": [],
   "source": [
    "import pandas as pd \n",
    "import numpy as np\n",
    "from datetime import datetime\n",
    "from  matplotlib import pyplot as plt\n",
    "%matplotlib inline"
   ]
  },
  {
   "cell_type": "code",
   "execution_count": 2,
   "metadata": {},
   "outputs": [],
   "source": [
    "import pandas as pd\n",
    "pd.options.display.float_format='{:.4g}'.format\n",
    "\n",
    "import numpy as np\n",
    "RANDOM_SEED = 1234567890\n",
    "\n",
    "import sklearn as sk\n",
    "from sklearn import datasets\n",
    "from sklearn.model_selection import train_test_split\n",
    "from sklearn.model_selection import KFold\n",
    "#from sklearn.linear_model import ElasticNet \n",
    "#from sklearn.linear_model import LinearRegression \n",
    "from sklearn.metrics import mean_squared_error\n",
    "import sklearn.linear_model as lm\n",
    "\n",
    "\n",
    "from matplotlib import pyplot as plt\n",
    "%matplotlib inline"
   ]
  },
  {
   "cell_type": "code",
   "execution_count": 3,
   "metadata": {},
   "outputs": [],
   "source": [
    "pd.set_option(\"display.max_rows\", 2000)"
   ]
  },
  {
   "cell_type": "code",
   "execution_count": 4,
   "metadata": {},
   "outputs": [],
   "source": [
    "def dollar_val(strng, mylocale='en_US.UTF-8'):\n",
    "    '''Function to convert formatted string in database to float of dollar amounts\n",
    "    Generalized to any locale for possible reutilization in the future\n",
    "    '''\n",
    "    import locale\n",
    "    locale.setlocale(locale.LC_ALL, mylocale)\n",
    "    locale._override_localeconv = {'n_sign_posn':0}\n",
    "    conv = locale.localeconv()\n",
    "    if type(strng) == str:\n",
    "        raw_numbers = strng.replace(conv['currency_symbol'], '')\n",
    "    else:\n",
    "        raw_numbers = strng\n",
    "    return locale.atof(raw_numbers)"
   ]
  },
  {
   "cell_type": "code",
   "execution_count": 5,
   "metadata": {},
   "outputs": [],
   "source": [
    "def to_2017(dollars, date):\n",
    "    import pandas as pd\n",
    "    cpi = {  '2004-01-01': 186.3,\n",
    "             '2004-02-01': 186.7,\n",
    "             '2004-03-01': 187.1,\n",
    "             '2004-04-01': 187.4,\n",
    "             '2004-05-01': 188.2,\n",
    "             '2004-06-01': 188.9,\n",
    "             '2004-07-01': 189.1,\n",
    "             '2004-08-01': 189.2,\n",
    "             '2004-09-01': 189.8,\n",
    "             '2004-10-01': 190.8,\n",
    "             '2004-11-01': 191.7,\n",
    "             '2004-12-01': 191.7,\n",
    "             '2005-01-01': 191.6,\n",
    "             '2005-02-01': 192.4,\n",
    "             '2005-03-01': 193.1,\n",
    "             '2005-04-01': 193.7,\n",
    "             '2005-05-01': 193.6,\n",
    "             '2005-06-01': 193.7,\n",
    "             '2005-07-01': 194.9,\n",
    "             '2005-08-01': 196.1,\n",
    "             '2005-09-01': 198.8,\n",
    "             '2005-10-01': 199.1,\n",
    "             '2005-11-01': 198.1,\n",
    "             '2005-12-01': 198.1,\n",
    "             '2006-01-01': 199.3,\n",
    "             '2006-02-01': 199.4,\n",
    "             '2006-03-01': 199.7,\n",
    "             '2006-04-01': 200.7,\n",
    "             '2006-05-01': 201.3,\n",
    "             '2006-06-01': 201.8,\n",
    "             '2006-07-01': 202.9,\n",
    "             '2006-08-01': 203.8,\n",
    "             '2006-09-01': 202.8,\n",
    "             '2006-10-01': 201.9,\n",
    "             '2006-11-01': 202.0,\n",
    "             '2006-12-01': 203.1,\n",
    "             '2007-01-01': 203.437,\n",
    "             '2007-02-01': 204.226,\n",
    "             '2007-03-01': 205.288,\n",
    "             '2007-04-01': 205.904,\n",
    "             '2007-05-01': 206.755,\n",
    "             '2007-06-01': 207.234,\n",
    "             '2007-07-01': 207.603,\n",
    "             '2007-08-01': 207.667,\n",
    "             '2007-09-01': 208.547,\n",
    "             '2007-10-01': 209.19,\n",
    "             '2007-11-01': 210.834,\n",
    "             '2007-12-01': 211.445,\n",
    "             '2008-01-01': 212.174,\n",
    "             '2008-02-01': 212.687,\n",
    "             '2008-03-01': 213.448,\n",
    "             '2008-04-01': 213.942,\n",
    "             '2008-05-01': 215.208,\n",
    "             '2008-06-01': 217.463,\n",
    "             '2008-07-01': 219.016,\n",
    "             '2008-08-01': 218.69,\n",
    "             '2008-09-01': 218.877,\n",
    "             '2008-10-01': 216.995,\n",
    "             '2008-11-01': 213.153,\n",
    "             '2008-12-01': 211.398,\n",
    "             '2009-01-01': 211.933,\n",
    "             '2009-02-01': 212.705,\n",
    "             '2009-03-01': 212.495,\n",
    "             '2009-04-01': 212.709,\n",
    "             '2009-05-01': 213.022,\n",
    "             '2009-06-01': 214.79,\n",
    "             '2009-07-01': 214.726,\n",
    "             '2009-08-01': 215.445,\n",
    "             '2009-09-01': 215.861,\n",
    "             '2009-10-01': 216.509,\n",
    "             '2009-11-01': 217.234,\n",
    "             '2009-12-01': 217.347,\n",
    "             '2010-01-01': 217.488,\n",
    "             '2010-02-01': 217.281,\n",
    "             '2010-03-01': 217.353,\n",
    "             '2010-04-01': 217.403,\n",
    "             '2010-05-01': 217.29,\n",
    "             '2010-06-01': 217.199,\n",
    "             '2010-07-01': 217.605,\n",
    "             '2010-08-01': 217.923,\n",
    "             '2010-09-01': 218.275,\n",
    "             '2010-10-01': 219.035,\n",
    "             '2010-11-01': 219.59,\n",
    "             '2010-12-01': 220.472,\n",
    "             '2011-01-01': 221.187,\n",
    "             '2011-02-01': 221.898,\n",
    "             '2011-03-01': 223.046,\n",
    "             '2011-04-01': 224.093,\n",
    "             '2011-05-01': 224.806,\n",
    "             '2011-06-01': 224.806,\n",
    "             '2011-07-01': 225.395,\n",
    "             '2011-08-01': 226.106,\n",
    "             '2011-09-01': 226.597,\n",
    "             '2011-10-01': 226.75,\n",
    "             '2011-11-01': 227.169,\n",
    "             '2011-12-01': 227.223,\n",
    "             '2012-01-01': 227.842,\n",
    "             '2012-02-01': 228.329,\n",
    "             '2012-03-01': 228.807,\n",
    "             '2012-04-01': 229.187,\n",
    "             '2012-05-01': 228.713,\n",
    "             '2012-06-01': 228.524,\n",
    "             '2012-07-01': 228.59,\n",
    "             '2012-08-01': 229.918,\n",
    "             '2012-09-01': 231.015,\n",
    "             '2012-10-01': 231.638,\n",
    "             '2012-11-01': 231.249,\n",
    "             '2012-12-01': 231.221,\n",
    "             '2013-01-01': 231.679,\n",
    "             '2013-02-01': 232.937,\n",
    "             '2013-03-01': 232.282,\n",
    "             '2013-04-01': 231.797,\n",
    "             '2013-05-01': 231.893,\n",
    "             '2013-06-01': 232.445,\n",
    "             '2013-07-01': 232.9,\n",
    "             '2013-08-01': 233.456,\n",
    "             '2013-09-01': 233.544,\n",
    "             '2013-10-01': 233.669,\n",
    "             '2013-11-01': 234.1,\n",
    "             '2013-12-01': 234.719,\n",
    "             '2014-01-01': 235.347,\n",
    "             '2014-02-01': 235.522,\n",
    "             '2014-03-01': 235.956,\n",
    "             '2014-04-01': 236.463,\n",
    "             '2014-05-01': 236.867,\n",
    "             '2014-06-01': 237.188,\n",
    "             '2014-07-01': 237.485,\n",
    "             '2014-08-01': 237.439,\n",
    "             '2014-09-01': 237.452,\n",
    "             '2014-10-01': 237.447,\n",
    "             '2014-11-01': 237.042,\n",
    "             '2014-12-01': 236.27,\n",
    "             '2015-01-01': 234.836,\n",
    "             '2015-02-01': 235.274,\n",
    "             '2015-03-01': 235.956,\n",
    "             '2015-04-01': 236.165,\n",
    "             '2015-05-01': 236.952,\n",
    "             '2015-06-01': 237.618,\n",
    "             '2015-07-01': 237.993,\n",
    "             '2015-08-01': 237.989,\n",
    "             '2015-09-01': 237.467,\n",
    "             '2015-10-01': 237.764,\n",
    "             '2015-11-01': 238.072,\n",
    "             '2015-12-01': 237.827,\n",
    "             '2016-01-01': 237.99,\n",
    "             '2016-02-01': 237.532,\n",
    "             '2016-03-01': 238.022,\n",
    "             '2016-04-01': 238.843,\n",
    "             '2016-05-01': 239.439,\n",
    "             '2016-06-01': 240.074,\n",
    "             '2016-07-01': 240.058,\n",
    "             '2016-08-01': 240.569,\n",
    "             '2016-09-01': 241.017,\n",
    "             '2016-10-01': 241.667,\n",
    "             '2016-11-01': 242.081,\n",
    "             '2016-12-01': 242.784,\n",
    "             '2017-01-01': 244.028,\n",
    "             '2017-02-01': 244.102,\n",
    "             '2017-03-01': 243.717,\n",
    "             '2017-04-01': 244.087,\n",
    "             '2017-05-01': 243.911,\n",
    "             '2017-06-01': 244.032,\n",
    "             '2017-07-01': 244.236,\n",
    "             '2017-08-01': 245.262,\n",
    "             '2017-09-01': 246.392,\n",
    "             '2017-10-01': 246.583,\n",
    "             '2017-11-01': 247.411,\n",
    "             '2017-12-01': 247.91}\n",
    "\n",
    "    cpi_dec_2017 = cpi['2017-12-01']\n",
    "    cpi_source = cpi[date]\n",
    "    return dollars * cpi_dec_2017 / cpi_source\n"
   ]
  },
  {
   "cell_type": "code",
   "execution_count": 6,
   "metadata": {},
   "outputs": [],
   "source": [
    "# First we load the relevant datafiles\n",
    "bid = pd.read_csv('../data/bidding_info.csv', low_memory=False)\n",
    "change_orders = pd.read_csv('../data/change_orders.csv', low_memory=False)\n",
    "\n",
    "\n",
    "# Drop the records wirh Awarded column == NaN from bid\n",
    "bid = bid[bid['Awarded'].notnull()]\n",
    "# And the records with the Bid Total NaN\n",
    "bid = bid[bid['Bid Total'].notnull()]\n",
    "\n",
    "# create a list of sucessful bids (someone won) \n",
    "# otherwise there is no actual\n",
    "# \n",
    "# and drop unsuccesful bids from tables\n",
    "successful_bids = bid[bid['Awarded'] == 1]['Proposal Number']\n",
    "bid = bid[bid['Proposal Number'].isin(successful_bids)]\n",
    "change_orders = change_orders[change_orders['CONT_ID'].isin(successful_bids)]\n",
    "\n",
    "\n",
    "# Convert dollar amounts from strings to float\n",
    "# first for bid\n",
    "columns_to_convert = ['Bid Total', 'Engineers Estimate', 'Difference']\n",
    "for col in columns_to_convert:\n",
    "    tmp = bid[col]\n",
    "    bid[col] = tmp.map(dollar_val, na_action='ignore')\n",
    "# Next for change_orders\n",
    "columns_to_convert = ['C_O_AMT']\n",
    "for col in columns_to_convert:\n",
    "    tmp = change_orders[col]\n",
    "    change_orders[col] = tmp.map(dollar_val, na_action='ignore')\n",
    "\n",
    "# We add date columns to adjust for inflation\n",
    "bid['month'] = pd.to_datetime(bid['Letting Date']).dt.month\n",
    "bid['year'] = pd.to_datetime(bid['Letting Date']).dt.year\n",
    "bid['date'] = bid.apply(lambda x:pd.Timestamp.strptime(\n",
    "                       \"{0} {1}\".format(x['year'],x['month']),\n",
    "                        \"%Y %m\"),axis=1)\n",
    "\n",
    "change_orders['date'] = change_orders.apply(lambda \n",
    "                        x:pd.Timestamp.strptime(\"{0}\".format(x['APPR_DT']//100),\n",
    "                         \"%Y%m\"),axis=1)\n",
    "\n",
    "\n",
    "# Convert all the money columns to 2017 dollars\n",
    "# so we can compae apples to apples\n",
    "bid['Bid Total 2017'] = np.vectorize(to_2017)(bid['Bid Total'], bid['date'].astype(str))\n",
    "bid['Engineers Estimate 2017'] = np.vectorize(to_2017)(bid['Engineers Estimate'], bid['date'].astype(str))\n",
    "change_orders['C_O_AM_2017'] = np.vectorize(to_2017)(change_orders['C_O_AMT'], change_orders['date'].astype(str))\n",
    "\n",
    "# Dropping unnecessary columns \n",
    "cols_to_drop = ['Vendor Number', 'Vendor Name', 'Difference','Bid Total',\n",
    "                'Engineers Estimate', 'Percentage Bid Total Over Estimate', \n",
    "                'Letting Date','month', 'year']\n",
    "bid = bid.drop(cols_to_drop, axis=1)\n",
    "cols_to_drop = ['Vendor', 'Bid Amount', 'LEV2_OFFICE_NBR', 'DESC1','C_O_AMT',\n",
    "                'C_O_NBR', 'CD_DESC', 'APPR_DT', 'CHNG_DESC', 'C_O_T']\n",
    "change_orders = change_orders.drop(cols_to_drop, axis=1)\n",
    "\n",
    "# Aggregate changes per contract\n",
    "ch_o_total = change_orders.groupby('CONT_ID').sum()\n",
    "ch_o_total.reset_index(inplace=True)\n",
    "ch_o_total.columns = ['Proposal Number', 'C_O_AM_2017']\n",
    "\n",
    "# Merge with bid\n",
    "bid = pd.merge(bid,ch_o_total, on='Proposal Number', how='outer' ).sort_values(by=['Proposal Number', 'Awarded'])\n",
    "# no reported changes is assumed as the bid total was correct and is the actual expense\n",
    "bid.fillna(0, inplace=True)\n",
    "bid['Final cost 2017'] = bid['Bid Total 2017'] + bid['C_O_AM_2017']\n",
    "\n",
    "\n",
    "\n",
    "# Feature Engineering\n",
    "#\n",
    "# Split into winner and loser groupby objects\n",
    "\n",
    "#def features(df):\n",
    "'''\n",
    "Function to compute some statistics about winners and losers \n",
    "of the bids\n",
    "\n",
    "INPUT: dataframe with ['Proposal Number', 'Awarded', 'date', 'Bid Total 2017',\n",
    "                       'Engineers Estimate 2017', 'C_O_AM_2017']\n",
    "OUTPUT\n",
    "'''\n",
    "g_loser = bid[bid['Awarded'] == 0].groupby('Proposal Number')\n",
    "bid = bid[bid['Awarded'] == 1]\n",
    "\n",
    "# Make dataframe\n",
    "loser = pd.DataFrame(g_loser.agg(['size', 'mean', 'min', 'max']))\n",
    "loser.columns = [' '.join(col) for col in loser.columns]\n",
    "loser.reset_index(inplace=True)\n",
    "\n",
    "# Dropping unnecessary columns \n",
    "cols_to_drop = ['Awarded mean', 'Awarded min', 'Awarded max', \n",
    "                'Bid Total 2017 size', 'Engineers Estimate 2017 size', \n",
    "                'Engineers Estimate 2017 mean', 'Engineers Estimate 2017 min', \n",
    "                'Engineers Estimate 2017 max', 'C_O_AM_2017 size', 'C_O_AM_2017 mean', \n",
    "                'C_O_AM_2017 min', 'C_O_AM_2017 max', 'Final cost 2017 size', \n",
    "                'Final cost 2017 mean', 'Final cost 2017 min', 'Final cost 2017 max']\n",
    "loser = loser.drop(cols_to_drop, axis=1)\n",
    "loser.columns = ['Proposal Number', 'No of participants', 'Loser Bid 2017 mean', \n",
    "                 'Loser Bid 2017 min', 'Loser Bid 2017 max']\n",
    "bid = pd.merge(bid,loser, on='Proposal Number', how='outer' )\n",
    "bid.fillna(0, inplace=True)\n",
    "bid['No of participants'] += 1\n",
    "bid = bid.drop('Awarded', axis=1) \n",
    "\n",
    "bid['Loser Bid 2017 mean'] = np.where((bid['No of participants'] == 1), \n",
    "                                 bid['Bid Total 2017'], \n",
    "                                (bid['Loser Bid 2017 mean'] + \n",
    "                                (bid['No of participants'] - 1) * \n",
    "                                 bid['Bid Total 2017']) /\n",
    "                                 bid['No of participants'])\n",
    "\n",
    "\n",
    "bid['Loser Bid 2017 min'] = np.where((bid['No of participants'] == 1), \n",
    "                                bid['Bid Total 2017'], \n",
    "                                np.minimum(bid['Loser Bid 2017 min'],\n",
    "                                           bid['Bid Total 2017']))\n",
    "\n",
    "\n",
    "bid['Loser Bid 2017 max'] = np.where((bid['No of participants'] == 1), \n",
    "                                bid['Bid Total 2017'], \n",
    "                                np.maximum(bid['Loser Bid 2017 max'],\n",
    "                                           bid['Bid Total 2017']))\n",
    "\n",
    "bid.columns = ['Proposal Number', 'date', 'Winning Bid 2017', 'Engineers Estimate 2017',\n",
    "               'Changes 2017', 'Final cost 2017', 'No of participants', 'Bid 2017 mean', \n",
    "               'Bid 2017 min', 'Bid 2017 max']\n",
    "bid['Spread'] = bid['Bid 2017 max'] - bid['Bid 2017 min']\n",
    "\n",
    "bid['Excentricity 1'] = 0\n",
    "bid['Excentricity 1'] = np.where((bid['Spread'] == 0), \n",
    "                                0,\n",
    "                                (bid['Bid 2017 min'] + \n",
    "                                 bid['Bid 2017 max'] -\n",
    "                                 2 * bid['Winning Bid 2017']) /\n",
    "                                 bid['Spread'])\n",
    "bid['Excentricity 2'] = 0\n",
    "bid['Excentricity 2'] = np.where((bid['Spread'] == 0), \n",
    "                                0,\n",
    "                                (bid['Bid 2017 min'] + \n",
    "                                 bid['Bid 2017 max'] -\n",
    "                                 2 * bid['Bid 2017 mean']) /\n",
    "                                 bid['Spread'])"
   ]
  },
  {
   "cell_type": "markdown",
   "metadata": {},
   "source": [
    "### OK, ETL Done!\n",
    "### Now to modeling"
   ]
  },
  {
   "cell_type": "markdown",
   "metadata": {},
   "source": [
    "The Target is the same for all the models:"
   ]
  },
  {
   "cell_type": "code",
   "execution_count": 7,
   "metadata": {},
   "outputs": [],
   "source": [
    "y = bid[['Final cost 2017']]"
   ]
  },
  {
   "cell_type": "markdown",
   "metadata": {},
   "source": [
    "### Now We experiment with two different models:"
   ]
  },
  {
   "cell_type": "markdown",
   "metadata": {},
   "source": [
    "### Model 1: Not knowing the winner"
   ]
  },
  {
   "cell_type": "code",
   "execution_count": 45,
   "metadata": {},
   "outputs": [],
   "source": [
    "# we don't use 'Winning Bid 2017' nor 'Excentricity 1'\n",
    "#X = bid[[ 'Engineers Estimate 2017', 'No of participants', 'Bid 2017 mean',\n",
    "#          'Bid 2017 min', 'Bid 2017 max', 'Spread', 'Excentricity 2']]\n",
    "X = bid[[ 'Engineers Estimate 2017','Bid 2017 min', 'Bid 2017 max','Spread', 'Excentricity 2']]\n"
   ]
  },
  {
   "cell_type": "code",
   "execution_count": 46,
   "metadata": {},
   "outputs": [
    {
     "data": {
      "text/plain": [
       "Index(['Proposal Number', 'date', 'Winning Bid 2017',\n",
       "       'Engineers Estimate 2017', 'Changes 2017', 'Final cost 2017',\n",
       "       'No of participants', 'Bid 2017 mean', 'Bid 2017 min', 'Bid 2017 max',\n",
       "       'Spread', 'Excentricity 1', 'Excentricity 2'],\n",
       "      dtype='object')"
      ]
     },
     "execution_count": 46,
     "metadata": {},
     "output_type": "execute_result"
    }
   ],
   "source": [
    "bid.columns"
   ]
  },
  {
   "cell_type": "code",
   "execution_count": 47,
   "metadata": {},
   "outputs": [],
   "source": [
    "X_global_train, X_test, y_global_train, y_test = sk.model_selection.train_test_split(X, y, \n",
    "                                            train_size=0.85, \n",
    "                                            test_size=0.15,\n",
    "                                            shuffle=True,\n",
    "                                            random_state=RANDOM_SEED)\n",
    "\n",
    "# Check dimensions (aka shapes)\n",
    "#print(X_global_train.shape, X_test.shape, \n",
    "#      X_train.shape, X_valid.shape,\n",
    "#      y_global_train.shape, y_train.shape, \n",
    "#      y_test.shape, y_valid.shape)\n"
   ]
  },
  {
   "cell_type": "code",
   "execution_count": 48,
   "metadata": {},
   "outputs": [
    {
     "data": {
      "text/html": [
       "<div>\n",
       "<style scoped>\n",
       "    .dataframe tbody tr th:only-of-type {\n",
       "        vertical-align: middle;\n",
       "    }\n",
       "\n",
       "    .dataframe tbody tr th {\n",
       "        vertical-align: top;\n",
       "    }\n",
       "\n",
       "    .dataframe thead th {\n",
       "        text-align: right;\n",
       "    }\n",
       "</style>\n",
       "<table border=\"1\" class=\"dataframe\">\n",
       "  <thead>\n",
       "    <tr style=\"text-align: right;\">\n",
       "      <th></th>\n",
       "      <th>Engineers Estimate 2017</th>\n",
       "      <th>Bid 2017 min</th>\n",
       "      <th>Bid 2017 max</th>\n",
       "      <th>Spread</th>\n",
       "      <th>Excentricity 2</th>\n",
       "    </tr>\n",
       "  </thead>\n",
       "  <tbody>\n",
       "    <tr>\n",
       "      <th>692</th>\n",
       "      <td>5.533e+05</td>\n",
       "      <td>5.159e+05</td>\n",
       "      <td>5.493e+05</td>\n",
       "      <td>3.343e+04</td>\n",
       "      <td>0.6446</td>\n",
       "    </tr>\n",
       "    <tr>\n",
       "      <th>148</th>\n",
       "      <td>3.078e+06</td>\n",
       "      <td>3.206e+06</td>\n",
       "      <td>3.292e+06</td>\n",
       "      <td>8.628e+04</td>\n",
       "      <td>0</td>\n",
       "    </tr>\n",
       "    <tr>\n",
       "      <th>1741</th>\n",
       "      <td>1.341e+06</td>\n",
       "      <td>7.534e+05</td>\n",
       "      <td>2.223e+06</td>\n",
       "      <td>1.47e+06</td>\n",
       "      <td>0.9524</td>\n",
       "    </tr>\n",
       "    <tr>\n",
       "      <th>1347</th>\n",
       "      <td>3.04e+06</td>\n",
       "      <td>3.335e+06</td>\n",
       "      <td>4.55e+06</td>\n",
       "      <td>1.215e+06</td>\n",
       "      <td>0.7522</td>\n",
       "    </tr>\n",
       "    <tr>\n",
       "      <th>1435</th>\n",
       "      <td>4.998e+06</td>\n",
       "      <td>4.982e+06</td>\n",
       "      <td>5.325e+06</td>\n",
       "      <td>3.428e+05</td>\n",
       "      <td>0.7933</td>\n",
       "    </tr>\n",
       "  </tbody>\n",
       "</table>\n",
       "</div>"
      ],
      "text/plain": [
       "      Engineers Estimate 2017  Bid 2017 min  Bid 2017 max    Spread  \\\n",
       "692                 5.533e+05     5.159e+05     5.493e+05 3.343e+04   \n",
       "148                 3.078e+06     3.206e+06     3.292e+06 8.628e+04   \n",
       "1741                1.341e+06     7.534e+05     2.223e+06  1.47e+06   \n",
       "1347                 3.04e+06     3.335e+06      4.55e+06 1.215e+06   \n",
       "1435                4.998e+06     4.982e+06     5.325e+06 3.428e+05   \n",
       "\n",
       "      Excentricity 2  \n",
       "692           0.6446  \n",
       "148                0  \n",
       "1741          0.9524  \n",
       "1347          0.7522  \n",
       "1435          0.7933  "
      ]
     },
     "execution_count": 48,
     "metadata": {},
     "output_type": "execute_result"
    }
   ],
   "source": [
    "X_global_train.head()"
   ]
  },
  {
   "cell_type": "code",
   "execution_count": 42,
   "metadata": {},
   "outputs": [
    {
     "data": {
      "text/plain": [
       "<generator object _BaseKFold.split at 0x7f12c7787ba0>"
      ]
     },
     "execution_count": 42,
     "metadata": {},
     "output_type": "execute_result"
    }
   ],
   "source": [
    "#X_global_train = np.random.rand(2000,2)*500\n",
    "#y_global_train = X_global_train.dot(np.array([35, 80])) + 200\n",
    "#X_global_train.shape, y_global_train.shape\n",
    "#kf.split(X_global_train)"
   ]
  },
  {
   "cell_type": "code",
   "execution_count": 49,
   "metadata": {},
   "outputs": [],
   "source": [
    "n_folds = 5\n",
    "kf = KFold(n_splits=n_folds, random_state=RANDOM_SEED)\n",
    "valid_cv_errors, train_cv_residuals = np.empty(n_folds), np.empty(n_folds)\n",
    "\n",
    "for idx, (train, valid) in enumerate(kf.split(X_global_train)):\n",
    "    # Split into train and test\n",
    "    X_train, X_valid, y_train, y_valid = sk.model_selection.train_test_split(X_global_train, \n",
    "                                                                        y_global_train, \n",
    "                                                                        train_size=0.80, \n",
    "                                                                        test_size=0.20,\n",
    "                                                                        shuffle=True,\n",
    "                                                                        random_state=None)\n",
    "    # Standardize data, fit on training set, transform training and test.\n",
    "    # no need, standardization is built in in the model parameter 'normalize' set to True\n",
    "    \n",
    "    # Fit ridge regression to training data.\n",
    "#    mod = ElasticNet(alpha=.8, normalize=True, l1_ratio=0.4, max_iter=100000,\n",
    "#                     fit_intercept=True, tol=1e-9, random_state=None)\n",
    "\n",
    "#    mod = LinearRegression( normalize=True,fit_intercept=True)\n",
    "\n",
    "    mod = lm.Lasso(alpha=.5, normalize=True, max_iter=300000,\n",
    "                   fit_intercept=True, tol=1e-9, random_state=None)\n",
    "    mod.fit(X_train, y_train)\n",
    "    \n",
    "    # Make predictions.    \n",
    "    y_pred = mod.predict(X_valid)\n",
    "    y_pred_train = mod.predict(X_train)\n",
    "    y_valid = y_valid.values.reshape(y_pred.shape)\n",
    "    y_train = y_train.values.reshape(X_train.shape[0], 1)\n",
    "    \n",
    "    # Calculate MSE.\n",
    "    # done below as an append argument\n",
    "    \n",
    "    # Record the MSE in a numpy array.\n",
    "    valid_cv_errors[idx] = np.linalg.norm(y_pred -  y_valid)      \n",
    "    train_cv_residuals[idx] = np.linalg.norm(y_pred_train -  y_train)\n",
    "                                \n",
    "#                      np.dot(y_pred -  y_valid, y_pred -  y_valid) / y_pred.shape[0])\n",
    "#    train_cv_errors = np.append(train_cv_errors,\n",
    "#                      np.dot(y_pred_train -  y_train, y_pred_train -  y_train) / y_pred_train.shape[0])\n",
    "    \n"
   ]
  },
  {
   "cell_type": "code",
   "execution_count": 44,
   "metadata": {},
   "outputs": [
    {
     "ename": "SyntaxError",
     "evalue": "invalid syntax (<ipython-input-44-43ea432154aa>, line 8)",
     "output_type": "error",
     "traceback": [
      "\u001b[0;36m  File \u001b[0;32m\"<ipython-input-44-43ea432154aa>\"\u001b[0;36m, line \u001b[0;32m8\u001b[0m\n\u001b[0;31m    y_train, y_valid =\u001b[0m\n\u001b[0m                       ^\u001b[0m\n\u001b[0;31mSyntaxError\u001b[0m\u001b[0;31m:\u001b[0m invalid syntax\n"
     ]
    }
   ],
   "source": [
    "n_folds = 5\n",
    "kf = KFold(n_splits=n_folds, random_state=RANDOM_SEED)\n",
    "valid_cv_errors, train_cv_residuals = np.empty(n_folds), np.empty(n_folds)\n",
    "\n",
    "for idx, (train, valid) in enumerate(kf.split(X_global_train)):\n",
    "    # Split into train and test\n",
    "    X_train, X_valid = X_global_train\n",
    "    y_train, y_valid = \n",
    "    \n",
    "    \n",
    "    sk.model_selection.train_test_split(X_global_train, \n",
    "                                                                        y_global_train, \n",
    "                                                                        train_size=0.80, \n",
    "                                                                        test_size=0.20,\n",
    "                                                                        shuffle=True,\n",
    "                                                                        random_state=None)\n",
    "    # Standardize data, fit on training set, transform training and test.\n",
    "    # no need, standardization is built in in the model parameter 'normalize' set to True\n",
    "    \n",
    "    # Fit ridge regression to training data.\n",
    "#    mod = ElasticNet(alpha=.8, normalize=True, l1_ratio=0.4, max_iter=100000,\n",
    "#                     fit_intercept=True, tol=1e-9, random_state=None)\n",
    "\n",
    "#    mod = LinearRegression( normalize=True,fit_intercept=True)\n",
    "\n",
    "    mod = lm.Lasso(alpha=.5, normalize=True, max_iter=300000,\n",
    "                   fit_intercept=True, tol=1e-9, random_state=None)\n",
    "    mod.fit(X_train, y_train)\n",
    "    \n",
    "    # Make predictions.    \n",
    "    y_pred = mod.predict(X_valid)\n",
    "    y_pred_train = mod.predict(X_train)\n",
    "    y_valid = y_valid.values.reshape(y_pred.shape)\n",
    "    y_train = y_train.values.reshape(X_train.shape[0], 1)\n",
    "    \n",
    "    # Calculate MSE.\n",
    "    # done below as an append argument\n",
    "    \n",
    "    # Record the MSE in a numpy array.\n",
    "    valid_cv_errors[idx] = np.linalg.norm(y_pred -  y_valid)      \n",
    "    train_cv_residuals[idx] = np.linalg.norm(y_pred_train -  y_train)\n",
    "                                \n",
    "#                      np.dot(y_pred -  y_valid, y_pred -  y_valid) / y_pred.shape[0])\n",
    "#    train_cv_errors = np.append(train_cv_errors,\n",
    "#                      np.dot(y_pred_train -  y_train, y_pred_train -  y_train) / y_pred_train.shape[0])\n",
    "    \n"
   ]
  },
  {
   "cell_type": "code",
   "execution_count": 50,
   "metadata": {},
   "outputs": [
    {
     "data": {
      "text/plain": [
       "Index(['Engineers Estimate 2017', 'Bid 2017 min', 'Bid 2017 max', 'Spread',\n",
       "       'Excentricity 2'],\n",
       "      dtype='object')"
      ]
     },
     "execution_count": 50,
     "metadata": {},
     "output_type": "execute_result"
    }
   ],
   "source": [
    "X_valid.columns"
   ]
  },
  {
   "cell_type": "code",
   "execution_count": 58,
   "metadata": {},
   "outputs": [],
   "source": [
    "import matplotlib as mpl\n",
    "mpl.rcParams.update({\n",
    "    'font.size'           : 20.0,\n",
    "    'axes.titlesize'      : 'large',\n",
    "    'axes.labelsize'      : 'medium',\n",
    "    'xtick.labelsize'     : 'medium',\n",
    "    'ytick.labelsize'     : 'medium',\n",
    "    'legend.fontsize'     : 'large',\n",
    "})"
   ]
  },
  {
   "cell_type": "code",
   "execution_count": 61,
   "metadata": {},
   "outputs": [
    {
     "data": {
      "image/png": "[encoded data removed]",
      "text/plain": [
       "<matplotlib.figure.Figure at 0x7f12c77689b0>"
      ]
     },
     "metadata": {},
     "output_type": "display_data"
    }
   ],
   "source": [
    "# The most obvious comparison\n",
    "'''\n",
    "maximum = max(bid['Engineers Estimate'].max(),\n",
    "              bid['Bid Total'].max())\n",
    "minimum = min(bid['Engineers Estimate'].min(),\n",
    "              bid['Bid Total'].min())\n",
    "\n",
    "\n",
    "x0 = bidding_info[bidding_info['Awarded'] == 0]['Engineers Estimate']\n",
    "y0 = bidding_info[bidding_info['Awarded'] == 0]['Bid Total']\n",
    "x1 = bidding_info[bidding_info['Awarded'] == 1]['Engineers Estimate']\n",
    "y1 = bidding_info[bidding_info['Awarded'] == 1]['Bid Total']\n",
    "'''\n",
    "\n",
    "y0 = y1 = y_valid\n",
    "x0 = X_valid['Engineers Estimate 2017']\n",
    "x1 = y_pred\n",
    "\n",
    "\n",
    "fig = plt.figure(figsize=(12, 12))\n",
    "ax = fig.add_subplot(1,1,1)\n",
    "\n",
    "\n",
    "ax.scatter(x0, y0, alpha=0.6, edgecolors='none', c='red')\n",
    "ax.scatter(x1, y1, alpha=0.6, edgecolors='none', c='green')\n",
    "#ax.scatter(x0, y0, alpha=0.2, edgecolors='none', c='red')\n",
    "#ax.scatter(x1, y1, alpha=0.2, edgecolors='none', c='green')\n",
    "\n",
    "#ax.plot([minimum, maximum], [minimum, maximum], c='blue', alpha=1)\n",
    "ax.plot([7.5, 50000000], [7.5,50000000], c='blue', alpha=1)\n",
    "\n",
    "ax.grid(True)\n",
    "ax.set_xlabel('Actuals')\n",
    "ax.set_ylabel('Predicted')\n",
    "plt.style.use('seaborn-bright')\n",
    "#plt.legend()\n",
    "\n",
    "plt.show()"
   ]
  },
  {
   "cell_type": "code",
   "execution_count": 18,
   "metadata": {},
   "outputs": [
    {
     "data": {
      "image/png": "[encoded data removed]",
      "text/plain": [
       "<matplotlib.figure.Figure at 0x7f12c8366a90>"
      ]
     },
     "metadata": {},
     "output_type": "display_data"
    }
   ],
   "source": [
    "plt.scatter(y_valid,y_pred, alpha=.2);"
   ]
  },
  {
   "cell_type": "code",
   "execution_count": 62,
   "metadata": {},
   "outputs": [
    {
     "data": {
      "image/png": "[encoded data removed]",
      "text/plain": [
       "<matplotlib.figure.Figure at 0x7f12c7890e80>"
      ]
     },
     "metadata": {},
     "output_type": "display_data"
    }
   ],
   "source": [
    "plt.hist((y_valid - y_pred), bins=100)\n",
    "plt.xlim(-3000000, 3000000);\n"
   ]
  },
  {
   "cell_type": "code",
   "execution_count": 20,
   "metadata": {},
   "outputs": [
    {
     "data": {
      "text/plain": [
       "Index(['Proposal Number', 'date', 'Winning Bid 2017',\n",
       "       'Engineers Estimate 2017', 'Changes 2017', 'Final cost 2017',\n",
       "       'No of participants', 'Bid 2017 mean', 'Bid 2017 min', 'Bid 2017 max',\n",
       "       'Spread', 'Excentricity 1', 'Excentricity 2'],\n",
       "      dtype='object')"
      ]
     },
     "execution_count": 20,
     "metadata": {},
     "output_type": "execute_result"
    }
   ],
   "source": [
    "bid.columns"
   ]
  },
  {
   "cell_type": "code",
   "execution_count": 63,
   "metadata": {},
   "outputs": [
    {
     "data": {
      "text/plain": [
       "(-3000000, 3000000)"
      ]
     },
     "execution_count": 63,
     "metadata": {},
     "output_type": "execute_result"
    },
    {
     "data": {
      "image/png": "[encoded data removed]",
      "text/plain": [
       "<matplotlib.figure.Figure at 0x7f12bd9186d8>"
      ]
     },
     "metadata": {},
     "output_type": "display_data"
    }
   ],
   "source": [
    "plt.hist((bid['Engineers Estimate 2017'] - bid['Final cost 2017']), bins=100);\n",
    "plt.xlim(-3000000, 3000000)"
   ]
  },
  {
   "cell_type": "code",
   "execution_count": 22,
   "metadata": {},
   "outputs": [
    {
     "data": {
      "text/plain": [
       "(array([ 1.11465194e+00,  6.59224954e-03,  0.00000000e+00, -2.87448570e+04]),\n",
       " array([-29720.35076289]))"
      ]
     },
     "execution_count": 22,
     "metadata": {},
     "output_type": "execute_result"
    }
   ],
   "source": [
    "mod.coef_, mod.intercept_"
   ]
  },
  {
   "cell_type": "code",
   "execution_count": 23,
   "metadata": {},
   "outputs": [
    {
     "data": {
      "text/plain": [
       "(array([10354481.13568258, 10142062.89679179, 10106605.84653646,\n",
       "        16863038.06648388,  9568722.84230592]),\n",
       " array([1.18809164e+10, 1.24668643e+10, 1.17257955e+10, 1.19892996e+10,\n",
       "        1.24775336e+10]))"
      ]
     },
     "execution_count": 23,
     "metadata": {},
     "output_type": "execute_result"
    }
   ],
   "source": [
    "valid_cv_errors, train_cv_residuals"
   ]
  },
  {
   "cell_type": "code",
   "execution_count": null,
   "metadata": {},
   "outputs": [],
   "source": []
  },
  {
   "cell_type": "code",
   "execution_count": null,
   "metadata": {},
   "outputs": [],
   "source": []
  },
  {
   "cell_type": "code",
   "execution_count": null,
   "metadata": {},
   "outputs": [],
   "source": [
    "X"
   ]
  },
  {
   "cell_type": "code",
   "execution_count": null,
   "metadata": {},
   "outputs": [],
   "source": []
  },
  {
   "cell_type": "code",
   "execution_count": null,
   "metadata": {},
   "outputs": [],
   "source": []
  },
  {
   "cell_type": "code",
   "execution_count": null,
   "metadata": {},
   "outputs": [],
   "source": []
  },
  {
   "cell_type": "code",
   "execution_count": null,
   "metadata": {},
   "outputs": [],
   "source": [
    "y_pred.values.shape"
   ]
  },
  {
   "cell_type": "code",
   "execution_count": null,
   "metadata": {},
   "outputs": [],
   "source": [
    "y_valid.values.reshape(y_pred.shape).shape\n"
   ]
  },
  {
   "cell_type": "code",
   "execution_count": null,
   "metadata": {},
   "outputs": [],
   "source": [
    "type(valid_cv_errors)"
   ]
  },
  {
   "cell_type": "code",
   "execution_count": null,
   "metadata": {},
   "outputs": [],
   "source": [
    "valid_cv_errors.append(3.3)"
   ]
  },
  {
   "cell_type": "code",
   "execution_count": null,
   "metadata": {},
   "outputs": [],
   "source": []
  },
  {
   "cell_type": "markdown",
   "metadata": {},
   "source": [
    "### Model 2: Knowing the winner"
   ]
  },
  {
   "cell_type": "code",
   "execution_count": null,
   "metadata": {},
   "outputs": [],
   "source": [
    "X = bid[[ 'Winning Bid 2017', 'Engineers Estimate 2017', 'No of participants', \n",
    "        'Bid 2017 mean', 'Bid 2017 min', 'Bid 2017 max', 'Spread', \n",
    "        'Excentricity 1', 'Excentricity 2']]"
   ]
  },
  {
   "cell_type": "code",
   "execution_count": null,
   "metadata": {},
   "outputs": [],
   "source": []
  },
  {
   "cell_type": "code",
   "execution_count": null,
   "metadata": {},
   "outputs": [],
   "source": []
  },
  {
   "cell_type": "code",
   "execution_count": null,
   "metadata": {},
   "outputs": [],
   "source": []
  },
  {
   "cell_type": "code",
   "execution_count": null,
   "metadata": {},
   "outputs": [],
   "source": []
  },
  {
   "cell_type": "code",
   "execution_count": null,
   "metadata": {},
   "outputs": [],
   "source": []
  },
  {
   "cell_type": "code",
   "execution_count": null,
   "metadata": {},
   "outputs": [],
   "source": []
  },
  {
   "cell_type": "code",
   "execution_count": null,
   "metadata": {},
   "outputs": [],
   "source": []
  },
  {
   "cell_type": "code",
   "execution_count": null,
   "metadata": {},
   "outputs": [],
   "source": []
  },
  {
   "cell_type": "code",
   "execution_count": null,
   "metadata": {},
   "outputs": [],
   "source": []
  },
  {
   "cell_type": "code",
   "execution_count": null,
   "metadata": {},
   "outputs": [],
   "source": []
  },
  {
   "cell_type": "code",
   "execution_count": null,
   "metadata": {},
   "outputs": [],
   "source": []
  },
  {
   "cell_type": "code",
   "execution_count": null,
   "metadata": {},
   "outputs": [],
   "source": []
  },
  {
   "cell_type": "code",
   "execution_count": null,
   "metadata": {},
   "outputs": [],
   "source": [
    "pd.plotting.scatter_matrix(X1, figsize=(12,12), alpha=1);"
   ]
  },
  {
   "cell_type": "code",
   "execution_count": null,
   "metadata": {},
   "outputs": [],
   "source": [
    "pd.plotting.scatter_matrix(X2, figsize=(12,12), alpha=1);"
   ]
  },
  {
   "cell_type": "code",
   "execution_count": null,
   "metadata": {},
   "outputs": [],
   "source": [
    "X2 = bid[['No of participants', 'Bid 2017 mean',\n",
    "          'Bid 2017 min', 'Bid 2017 max', 'Spread', 'Excentricity 2']]"
   ]
  },
  {
   "cell_type": "code",
   "execution_count": null,
   "metadata": {},
   "outputs": [],
   "source": [
    "bid.columns"
   ]
  },
  {
   "cell_type": "code",
   "execution_count": null,
   "metadata": {},
   "outputs": [],
   "source": [
    "bid.plot.scatter('Winning Bid 2017', 'Final cost 2017', figsize=(12,12))\n",
    "plt.plot([0, 80000000], [0, 80000000], c='red', alpha=1)\n",
    "plt.plot([0, 80000000], [0, 80000000*1.15], c='purple', alpha=1)"
   ]
  },
  {
   "cell_type": "code",
   "execution_count": null,
   "metadata": {},
   "outputs": [],
   "source": [
    "bid.plot.scatter('Bid 2017 mean', 'Final cost 2017', figsize=(12,12))\n",
    "plt.plot([0, 80000000], [0, 80000000], c='red', alpha=1)\n",
    "plt.plot([0, 80000000], [0, 80000000*1.15], c='purple', alpha=1);"
   ]
  },
  {
   "cell_type": "code",
   "execution_count": null,
   "metadata": {},
   "outputs": [],
   "source": []
  },
  {
   "cell_type": "code",
   "execution_count": null,
   "metadata": {},
   "outputs": [],
   "source": []
  },
  {
   "cell_type": "code",
   "execution_count": null,
   "metadata": {},
   "outputs": [],
   "source": []
  },
  {
   "cell_type": "code",
   "execution_count": null,
   "metadata": {},
   "outputs": [],
   "source": [
    "bid.hist(figsize=(10,10), bins=40);"
   ]
  },
  {
   "cell_type": "code",
   "execution_count": null,
   "metadata": {},
   "outputs": [],
   "source": [
    "bid.plot.scatter('Bid 2017 mean', 'Final cost 2017' );\n",
    "\n"
   ]
  },
  {
   "cell_type": "code",
   "execution_count": null,
   "metadata": {},
   "outputs": [],
   "source": [
    "toy = bid"
   ]
  },
  {
   "cell_type": "code",
   "execution_count": null,
   "metadata": {
    "scrolled": true
   },
   "outputs": [],
   "source": [
    "toy[toy['No of participants'] == 1]"
   ]
  },
  {
   "cell_type": "code",
   "execution_count": null,
   "metadata": {},
   "outputs": [],
   "source": [
    "toy['Loser Bid 2017 mean'] = np.where((toy['No of participants'] == 1), \n",
    "                                      toy['Winning Bid 2017'], \n",
    "                                      toy['Loser Bid 2017 mean'])"
   ]
  },
  {
   "cell_type": "code",
   "execution_count": null,
   "metadata": {},
   "outputs": [],
   "source": [
    "toy.head(60)"
   ]
  },
  {
   "cell_type": "code",
   "execution_count": null,
   "metadata": {},
   "outputs": [],
   "source": [
    "type(bid['Final cost 2017'].values)"
   ]
  },
  {
   "cell_type": "code",
   "execution_count": null,
   "metadata": {},
   "outputs": [],
   "source": [
    "bid['Loser Bid 2017 mean'] += bid[bid['No of participants'] == 1]['Winning Bid 2017']"
   ]
  },
  {
   "cell_type": "code",
   "execution_count": null,
   "metadata": {},
   "outputs": [],
   "source": [
    "bid.head(500)"
   ]
  },
  {
   "cell_type": "code",
   "execution_count": null,
   "metadata": {},
   "outputs": [],
   "source": []
  }
 ],
 "metadata": {
  "kernelspec": {
   "display_name": "Python 3",
   "language": "python",
   "name": "python3"
  },
  "language_info": {
   "codemirror_mode": {
    "name": "ipython",
    "version": 3
   },
   "file_extension": ".py",
   "mimetype": "text/x-python",
   "name": "python",
   "nbconvert_exporter": "python",
   "pygments_lexer": "ipython3",
   "version": "3.6.4"
  }
 },
 "nbformat": 4,
 "nbformat_minor": 2
}
