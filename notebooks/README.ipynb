{
 "cells": [
  {
   "cell_type": "markdown",
   "metadata": {},
   "source": [
    "# Construction Cost estimator"
   ]
  },
  {
   "cell_type": "markdown",
   "metadata": {},
   "source": [
    "![title](192347.png)"
   ]
  },
  {
   "cell_type": "markdown",
   "metadata": {},
   "source": [
    "## Objective\n",
    "\n",
    "To improve the accuracy of cost estimations for construction projects. Using data from the Colorado Department of Transportation\n",
    "\n",
    "## Background\n",
    "\n",
    "Talk about real measures of error instead of BS in porigianl work\n",
    " Show picture of error distribution and figures of how much money above the estimates vs below averages and totals\n",
    " \n",
    "\n",
    "## Assumptions\n",
    "\n",
    "As the data comes with no descriptions, I had to make a few assumptions:\n",
    "\n",
    "* The Actual costs are the predicted by the winner bid plus or minus the order changes.\n",
    "* The prices of labour and material are only affected in time by the Comsumer Price Index (Average Price).\n",
    "* If is not reported it doesn'exist.\n",
    "\n",
    "    \n",
    "## Initial EDA/ETL\n",
    "\n",
    "The data came with zero description"
   ]
  },
  {
   "cell_type": "markdown",
   "metadata": {},
   "source": []
  },
  {
   "cell_type": "markdown",
   "metadata": {},
   "source": [
    "## ETL"
   ]
  }
 ],
 "metadata": {
  "kernelspec": {
   "display_name": "Python 3",
   "language": "python",
   "name": "python3"
  },
  "language_info": {
   "codemirror_mode": {
    "name": "ipython",
    "version": 3
   },
   "file_extension": ".py",
   "mimetype": "text/x-python",
   "name": "python",
   "nbconvert_exporter": "python",
   "pygments_lexer": "ipython3",
   "version": "3.6.4"
  }
 },
 "nbformat": 4,
 "nbformat_minor": 2
}
