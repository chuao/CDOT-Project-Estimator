{
 "cells": [
  {
   "cell_type": "markdown",
   "metadata": {},
   "source": [
    "# Construction Cost estimator"
   ]
  },
  {
   "cell_type": "markdown",
   "metadata": {},
   "source": [
    "![title](../images/192347.png)"
   ]
  },
  {
   "cell_type": "markdown",
   "metadata": {},
   "source": [
    "## Objective\n",
    "\n",
    "To improve the accuracy of cost estimations for construction projects. Using data from the Colorado Department of Transportation\n",
    "\n",
    "## Background\n",
    "\n",
    "Talk about real measures of error instead of BS in porigianl work\n",
    " Show picture of error distribution and figures of how much money above the estimates vs below averages and totals\n",
    " \n",
    "\n",
    "## Assumptions\n",
    "\n",
    "As the data comes with no descriptions, I had to make a few assumptions:\n",
    "\n",
    "* The Actual costs are the predicted by the winner bid plus or minus the order changes.\n",
    "* The prices of labour and material are only affected in time by the Comsumer Price Index (Average Price).\n",
    "* If is not reported it doesn'exist.\n",
    "\n",
    "    \n"
   ]
  },
  {
   "cell_type": "markdown",
   "metadata": {},
   "source": [
    "## ETL\n",
    "\n",
    "* Money ammounts were stored as strings, so they needed to be converted to numbers.\n",
    "* Money was adjusted for inflation using the Consumer Price Index.\n",
    "* Deserted bids were discarded.\n",
    "* Averaged bids included in the databse for some obscure reason were discarded\n",
    "* Data was aggregated per bid\n",
    "* Features were created like umber of participants, min, max, mean and of proposals, as well as spread (defined as the difference between min and max proposal, and eccentricity (were the winning bid seats between min and max)\n"
   ]
  },
  {
   "cell_type": "markdown",
   "metadata": {},
   "source": [
    "## Modeling\n",
    "\n",
    "### Base Model\n",
    "\n",
    "I tried a base model with Ordinary Least Squares, and a small set of features selected for two reasons:\n",
    "\n",
    "* To reduce colinearity problems.\n",
    "* To predict before knowing who won the bid.\n",
    "\n",
    "After evaluate it with K-fold, the average residual was 26,535,315.57 and the average error (agains unseen data) was 13,908,228.96.\n",
    "\n",
    "## ElasticNet\n",
    "\n",
    "ElasticNet regularizes the model as a combination of L1 and L2 regularization. It is supposed to behave better in the presence of colinearity.\n",
    "\n",
    "### Base Model\n",
    "\n",
    "Using the same model as before, minimal colinearity the model estimated alpha and l1_ratio as 367.40 and 0.5 respectively, and the Residual and errors were 821,8874,701.86 and 118,423,068.50. These model performed terribly compared with the OLS.\n",
    "\n",
    "### More data\n",
    "\n",
    "Since ElasticNet strenth is supposed to its colinearity tolerance, I made a new model using everything non dependant on the actuals, it is:\n",
    "* Winning Bid 2017\n",
    "* Engineers Estimate 2017\n",
    "* No of participants', 'Bid 2017 mean\n",
    "* Bid 2017 min\n",
    "* Bid 2017 max\n",
    "* Spread\n",
    "* Eccentricity 1\n",
    "* Eccentricity 2\n",
    "\n",
    "This is a bit abusive and probably midguided, but, hey, it's just a test!\n",
    "\n",
    "The results are (expetedly?) dissapointing residuals and errors are 8,323,752,586.67 (8 BILLIONS!!!) and 11,242,4015.26."
   ]
  },
  {
   "cell_type": "markdown",
   "metadata": {},
   "source": [
    "![title](../images/Predictions.png)"
   ]
  },
  {
   "cell_type": "markdown",
   "metadata": {},
   "source": [
    "## Nice observation\n",
    "\n",
    "Besides the models showing not so great performance, the distribution of the errors on the unseen data (difference between estimation and actual cost) was narrower than the distribution of the errors between the actuals and the Engineer's estimate (don't forget that there is an incentive for understimation, since it might lead to lower bids).\n",
    "\n"
   ]
  },
  {
   "cell_type": "markdown",
   "metadata": {},
   "source": [
    "### Model Error distirbution\n",
    "![title](../images/model_errors.png)"
   ]
  },
  {
   "cell_type": "markdown",
   "metadata": {},
   "source": [
    "###Engineer's Error Distribution\n",
    "![title](../images/Engineer_error.png)"
   ]
  },
  {
   "cell_type": "markdown",
   "metadata": {},
   "source": [
    "## Future work\n",
    "\n",
    "Test different combinations of regularization techniques and selections of X, to improve the results."
   ]
  }
 ],
 "metadata": {
  "kernelspec": {
   "display_name": "Python 3",
   "language": "python",
   "name": "python3"
  },
  "language_info": {
   "codemirror_mode": {
    "name": "ipython",
    "version": 3
   },
   "file_extension": ".py",
   "mimetype": "text/x-python",
   "name": "python",
   "nbconvert_exporter": "python",
   "pygments_lexer": "ipython3",
   "version": "3.6.4"
  }
 },
 "nbformat": 4,
 "nbformat_minor": 2
}
